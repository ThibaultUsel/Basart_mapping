{
 "cells": [
  {
   "cell_type": "code",
   "execution_count": 20,
   "id": "9ec0df7d-9825-4239-bdb4-b36709ace4e5",
   "metadata": {},
   "outputs": [],
   "source": [
    "# When using 3M, you may want to indicate some relations as crm:P190_has_symbolic_content, but this option isn't available.\n",
    "# This script automatically change relation of \"rdfs:label\" type into \"crm:P190_has_symbolic_content\", if it is followed by a specific comment\n",
    "# To use it, you will need to insert in M3 a comment of the \"rationale\" type, starting with \"P190\".\n",
    "# It is still possible to add other content in the comment if you want to, but it has to follow the \"P190\" indication.\n",
    "# Then you'll have to save the X3ML mapping file in local"
   ]
  },
  {
   "cell_type": "code",
   "execution_count": 21,
   "id": "2fa48a03-e1b9-450a-8d48-db3ce0e6dc86",
   "metadata": {},
   "outputs": [],
   "source": [
    "import re"
   ]
  },
  {
   "cell_type": "code",
   "execution_count": 22,
   "id": "c0e82adf-b123-407e-a9a1-52d176ea652e",
   "metadata": {},
   "outputs": [],
   "source": [
    "temp = [] # That list will get every line of the xml file that needs to be modified."
   ]
  },
  {
   "cell_type": "code",
   "execution_count": 23,
   "id": "ecc5382e-6364-4e95-a920-92b6901414d4",
   "metadata": {},
   "outputs": [],
   "source": [
    "newLine = [] # This list will get the new modified lines."
   ]
  },
  {
   "cell_type": "code",
   "execution_count": 24,
   "id": "49ff3fed-42be-4ba1-9664-2a8297a56037",
   "metadata": {},
   "outputs": [],
   "source": [
    "# insert the path to and name of the input X3ML file you want to modify.\n",
    "originalFile = \"\""
   ]
  },
  {
   "cell_type": "code",
   "execution_count": 25,
   "id": "0d7a3397-cdea-40d3-baaa-b828be62351f",
   "metadata": {},
   "outputs": [],
   "source": [
    "# insert the path to and name of the output X3ML file that will be created.\n",
    "newFile = \"\""
   ]
  },
  {
   "cell_type": "code",
   "execution_count": 26,
   "id": "3cdb10f5-194f-4362-ad21-4ab98cf3188a",
   "metadata": {},
   "outputs": [],
   "source": [
    "rfile = open(originalFile, 'r')"
   ]
  },
  {
   "cell_type": "code",
   "execution_count": 27,
   "id": "959e4200-d532-4f6e-aade-873ae57cce5e",
   "metadata": {},
   "outputs": [],
   "source": [
    "wfile = open(newFile,'w')"
   ]
  },
  {
   "cell_type": "code",
   "execution_count": 28,
   "id": "7cc141c7-b0a2-45e7-b7af-fb3cbd1a0dd4",
   "metadata": {},
   "outputs": [],
   "source": [
    "for line in rfile:\n",
    "    temp.append(line)"
   ]
  },
  {
   "cell_type": "code",
   "execution_count": 29,
   "id": "6a118781-c70e-4b85-880f-b3962633d7d3",
   "metadata": {},
   "outputs": [],
   "source": [
    "rfile.close()"
   ]
  },
  {
   "cell_type": "code",
   "execution_count": 30,
   "id": "d8c08e90-9dd4-47f9-8068-28417660b469",
   "metadata": {},
   "outputs": [
    {
     "name": "stdout",
     "output_type": "stream",
     "text": [
      "                        <type>crm:E42_Identifier</type>\n",
      "                         <rationale>P190</rationale>\n",
      "                     <relationship>http://www.w3.org/2000/01/rdf-schema#label</relationship>\n",
      "\n",
      "                        <rationale>P190</rationale>\n",
      "                     <relationship>crm:P190_has_symbolic_content</relationship>\n",
      "\n",
      "---------------------------------------------------\n",
      "                        <type>crm:E41_Appellation</type>\n",
      "                         <rationale>P190</rationale>\n",
      "                     <relationship>http://www.w3.org/2000/01/rdf-schema#label</relationship>\n",
      "\n",
      "                        <rationale>P190</rationale>\n",
      "                     <relationship>crm:P190_has_symbolic_content</relationship>\n",
      "\n",
      "---------------------------------------------------\n",
      "                            <arg name=\"id_HASHED_CONTENTS\" type=\"xpath\">../source/text()</arg>\n",
      "                         <rationale>P190</rationale>\n",
      "                     <relationship>http://www.w3.org/2000/01/rdf-schema#label</relationship>\n",
      "\n",
      "                        <rationale>P190</rationale>\n",
      "                     <relationship>crm:P190_has_symbolic_content</relationship>\n",
      "\n",
      "---------------------------------------------------\n",
      "                        <type>crm:E56_Language</type>\n",
      "                         <rationale>P190</rationale>\n",
      "                     <relationship>http://www.w3.org/2000/01/rdf-schema#label</relationship>\n",
      "\n",
      "                        <rationale>P190</rationale>\n",
      "                     <relationship>crm:P190_has_symbolic_content</relationship>\n",
      "\n",
      "---------------------------------------------------\n",
      "                            <arg name=\"person\" type=\"constant\">person</arg>\n",
      "                         <rationale>P190</rationale>\n",
      "                     <relationship>http://www.w3.org/2000/01/rdf-schema#label</relationship>\n",
      "\n",
      "                        <rationale>P190</rationale>\n",
      "                     <relationship>crm:P190_has_symbolic_content</relationship>\n",
      "\n",
      "---------------------------------------------------\n"
     ]
    }
   ],
   "source": [
    "for i in range (0, len(temp)):\n",
    "    newLine.append(temp[i]) # copying the line from the xml to modify to the new xml\n",
    "    match = re.search(r\"<rationale>P190\", temp[i]) # detecting if there is a comment \"P190\"\n",
    "    if match:\n",
    "        # if yes, detecting if 4 lines ahead there's the \"rdfs:label\" property\n",
    "        match2 = re.search(r\"<relationship>http://www.w3.org/2000/01/rdf-schema#label</relationship>\", temp[(i - 4)])\n",
    "        if match2:\n",
    "            # if yes, modifying the \"rdfs:label\" into \"crm:P190_has_symbolic_content\"\n",
    "            newEntry = re.sub(r\"http://www.w3.org/2000/01/rdf-schema#label\", \"crm:P190_has_symbolic_content\", newLine[(i -4)])\n",
    "            newLine[(i - 4)] = newEntry\n",
    "            # This is just to check if the script has done the job correctly.\n",
    "            # It prints the name of the entity type, the new relation, and the original relation (that should be \"rdfs:label\") \n",
    "            print(temp[i-9], temp[i], temp[(i - 4)])\n",
    "            print(newLine[i], newLine[(i - 4)])\n",
    "            print('---------------------------------------------------')"
   ]
  },
  {
   "cell_type": "code",
   "execution_count": 31,
   "id": "46fb45b5-6f4c-4f50-a958-ac6f611cb79c",
   "metadata": {},
   "outputs": [],
   "source": [
    "for entry in newLine:\n",
    "    wfile.write(entry)"
   ]
  },
  {
   "cell_type": "code",
   "execution_count": 32,
   "id": "9f3f86f0-14cb-45c4-a47d-8df98439e32b",
   "metadata": {},
   "outputs": [],
   "source": [
    "wfile.close()"
   ]
  },
  {
   "cell_type": "code",
   "execution_count": null,
   "id": "65579482-689a-4d7d-aabc-63e74d92fd62",
   "metadata": {},
   "outputs": [],
   "source": []
  }
 ],
 "metadata": {
  "kernelspec": {
   "display_name": "Python 3 (ipykernel)",
   "language": "python",
   "name": "python3"
  },
  "language_info": {
   "codemirror_mode": {
    "name": "ipython",
    "version": 3
   },
   "file_extension": ".py",
   "mimetype": "text/x-python",
   "name": "python",
   "nbconvert_exporter": "python",
   "pygments_lexer": "ipython3",
   "version": "3.10.6"
  }
 },
 "nbformat": 4,
 "nbformat_minor": 5
}
